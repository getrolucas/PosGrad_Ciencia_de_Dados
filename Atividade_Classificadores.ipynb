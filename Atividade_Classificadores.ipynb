{
 "cells": [
  {
   "cell_type": "code",
   "execution_count": 1,
   "metadata": {},
   "outputs": [],
   "source": [
    "# importando as bibliotecas\n",
    "from sklearn.datasets import load_iris\n",
    "from sklearn.model_selection import train_test_split\n",
    "\n",
    "# importando os modelos\n",
    "from sklearn.naive_bayes import GaussianNB\n",
    "from sklearn.tree import DecisionTreeClassifier\n",
    "from sklearn.svm import SVC\n",
    "from sklearn.linear_model import LogisticRegression\n",
    "\n",
    "# importando métricas de avaliação\n",
    "from sklearn.model_selection import cross_val_score\n",
    "from sklearn.metrics import *"
   ]
  },
  {
   "cell_type": "code",
   "execution_count": 2,
   "metadata": {},
   "outputs": [],
   "source": [
    "# carregando os dados\n",
    "X, y = load_iris(return_X_y=True)\n",
    "\n",
    "# separando a base de treino da validação\n",
    "X_train, X_test, y_train, y_test = train_test_split(X, y, test_size=0.5, random_state=0)"
   ]
  },
  {
   "cell_type": "code",
   "execution_count": 3,
   "metadata": {},
   "outputs": [
    {
     "name": "stdout",
     "output_type": "stream",
     "text": [
      "Modelo: Gaussian\n",
      "Acurácia: 0.95\n",
      "Score Médio de Validação Cruzada: 0.97\n",
      "Matriz de Confusão:\n",
      "[21  0  0]\n",
      "[ 0 30  0]\n",
      "[ 0  4 20]\n",
      "\n",
      "\n",
      "Modelo: DecisionTree\n",
      "Acurácia: 0.96\n",
      "Score Médio de Validação Cruzada: 0.95\n",
      "Matriz de Confusão:\n",
      "[21  0  0]\n",
      "[ 0 29  1]\n",
      "[ 0  2 22]\n",
      "\n",
      "\n",
      "Modelo: SVC\n",
      "Acurácia: 0.97\n",
      "Score Médio de Validação Cruzada: 0.97\n",
      "Matriz de Confusão:\n",
      "[21  0  0]\n",
      "[ 0 29  1]\n",
      "[ 0  1 23]\n",
      "\n",
      "\n",
      "Modelo: LogisticRegression\n",
      "Acurácia: 0.93\n",
      "Score Médio de Validação Cruzada: 0.97\n",
      "Matriz de Confusão:\n",
      "[21  0  0]\n",
      "[ 0 29  1]\n",
      "[ 0  4 20]\n",
      "\n",
      "\n",
      "****************************************\n",
      "Melhor modelo: Gaussian\n"
     ]
    }
   ],
   "source": [
    "# definindo modelos e realizado loop\n",
    "modelos = {\n",
    "    'Gaussian':GaussianNB(),\n",
    "    'DecisionTree':DecisionTreeClassifier(),\n",
    "    'SVC':SVC(kernel='linear', C=1.0),\n",
    "    'LogisticRegression':LogisticRegression(max_iter=1000)\n",
    "}\n",
    "\n",
    "# avaliando scores dos modelos\n",
    "melhor_modelo = None\n",
    "melhor_score_medio = 0\n",
    "\n",
    "for nome, modelo in modelos.items():\n",
    "    modelo.fit(X_train, y_train)\n",
    "    y_pred = modelo.predict(X_test)\n",
    "\n",
    "    accuracy = accuracy_score(y_test, y_pred)\n",
    "    conf_matrix = confusion_matrix(y_test, y_pred)\n",
    "    scores = cross_val_score(modelo, X_train, y_train, cv=5)\n",
    "    score_medio = scores.mean()\n",
    "    \n",
    "    print(f\"Modelo: {nome}\")\n",
    "    print(f\"Acurácia: {accuracy:.2f}\")\n",
    "    print(f\"Score Médio de Validação Cruzada: {score_medio:.2f}\")\n",
    "    print(f\"Matriz de Confusão:\")\n",
    "    for x in conf_matrix:\n",
    "        print(f\"{x}\") \n",
    "    print('\\n')\n",
    "    if score_medio > melhor_score_medio:\n",
    "        melhor_modelo = nome\n",
    "        melhor_score_medio = score_medio\n",
    "\n",
    "linha = \"*\" * 40\n",
    "print(linha)\n",
    "\n",
    "# print do melhor modelo de classificação\n",
    "print(f\"Melhor modelo: {melhor_modelo}\")"
   ]
  }
 ],
 "metadata": {
  "kernelspec": {
   "display_name": "Planejamento-Demanda",
   "language": "python",
   "name": "python3"
  },
  "language_info": {
   "codemirror_mode": {
    "name": "ipython",
    "version": 3
   },
   "file_extension": ".py",
   "mimetype": "text/x-python",
   "name": "python",
   "nbconvert_exporter": "python",
   "pygments_lexer": "ipython3",
   "version": "3.9.16"
  }
 },
 "nbformat": 4,
 "nbformat_minor": 2
}
